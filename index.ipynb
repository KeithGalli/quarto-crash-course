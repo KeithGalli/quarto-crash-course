{
  "cells": [
    {
      "cell_type": "raw",
      "metadata": {},
      "source": [
        "---\n",
        "title: \"Example Quarto Doc\"\n",
        "author: \"Keith Galli\"\n",
        "date: \"2024-11-06\"\n",
        "toc: true\n",
        "toc-depth: 5\n",
        "echo: false\n",
        "bibliography: references.bib\n",
        "---"
      ]
    },
    {
      "cell_type": "code",
      "metadata": {
        "tags": [
          "parameters"
        ]
      },
      "source": [
        "color = \"blue\""
      ],
      "execution_count": null,
      "outputs": []
    },
    {
      "cell_type": "markdown",
      "metadata": {},
      "source": [
        "# Big Header 🤠🤠🤠🤠\n",
        "\n",
        "This is a test document to see how Quarto works. Here is some more text. I just want to fill up the page with some text so that I can see how the text wraps around the page. I think this should be enough text."
      ]
    },
    {
      "cell_type": "code",
      "metadata": {},
      "source": [
        "print(color)"
      ],
      "execution_count": null,
      "outputs": []
    },
    {
      "cell_type": "code",
      "metadata": {},
      "source": [
        "#| fig-cap: Random Scatter Plot\n",
        "import matplotlib.pyplot as plt\n",
        "import numpy as np\n",
        "\n",
        "# Generate random data\n",
        "x = np.random.rand(100)\n",
        "y = np.random.rand(100)\n",
        "\n",
        "# Create scatter plot\n",
        "plt.scatter(x, y)\n",
        "plt.title(\"Random Scatter Plot\")\n",
        "plt.xlabel(\"X-axis\")\n",
        "plt.ylabel(\"Y-axis\")\n",
        "plt.show()"
      ],
      "execution_count": null,
      "outputs": []
    },
    {
      "cell_type": "markdown",
      "metadata": {},
      "source": [
        "## Slightly smaller header\n",
        "\n",
        "### Even smaller header\n",
        "\n",
        "#### Smallest header\n",
        "\n",
        "**Bold text**\n",
        "\n",
        "*Italic text*\n",
        "\n",
        "[Link to Google](https://www.google.com)\n",
        "\n",
        "![](https://upload.wikimedia.org/wikipedia/en/4/4d/Shrek_%28character%29.png)\n",
        "\n",
        "| Col1 | Col2 | Col3 |\n",
        "|------|------|------|\n",
        "| a    | b    | c    |\n",
        "| d    | e    | f    |\n",
        "| g    | h    | i    |\n",
        "\n",
        "[@asaniczka2024; @asaniczka2024a]"
      ]
    }
  ],
  "metadata": {
    "kernelspec": {
      "name": "python3",
      "language": "python",
      "display_name": "Python 3 (ipykernel)",
      "path": "/Users/keithgalli/Envs/quarto/share/jupyter/kernels/python3"
    }
  },
  "nbformat": 4,
  "nbformat_minor": 4
}